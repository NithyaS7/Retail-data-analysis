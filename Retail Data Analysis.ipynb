{
 "cells": [
  {
   "cell_type": "markdown",
   "id": "3f64fde5",
   "metadata": {},
   "source": [
    "# <p style=\"padding:10px;background-color:black;margin:0;color:white;font-family:newtimeroman;font-size:150%;text-align:center;border-radius: 15px 50px;overflow:hidden;font-weight:500\">Retail Data Analysis </p>\n",
    "    \n",
    "    "
   ]
  },
  {
   "cell_type": "markdown",
   "id": "5b08de60",
   "metadata": {},
   "source": [
    "# <p style=\"padding:10px;background-color:BLACK;margin:0;color:white;font-family:newtimeroman;font-size:150%;text-align:center;border-radius: 15px 50px;overflow:hidden;font-weight:500\">TABLE OF CONTENTS </p>\n",
    "    \n",
    "    \n",
    "* [📌 IMPORTING LIBRARIES](#1)\n",
    "    \n",
    "* [📌 LOADING DATASET](#2)\n",
    "  \n",
    "* [📌 EXPLORATORY SOME INFORMATION ABOUT DATASET](#3)\n",
    "\n",
    "* [📌 DATA VISUALIZATION](#4)\n",
    "\n",
    "* [📌 RESULT](#5)\n",
    "\n",
    "* [📌 AUTHOR MESSAGE](#6)\n",
    " "
   ]
  },
  {
   "cell_type": "markdown",
   "id": "1213204f",
   "metadata": {},
   "source": [
    "# <a id=\"1\"></a>\n",
    "# <p style=\"padding:10px;background-color:black;margin:0;color:white;font-family:newtimeroman;font-size:100%;text-align:center;border-radius: 15px 50px;overflow:hidden;font-weight:500\">Importing Libraries</p>"
   ]
  },
  {
   "cell_type": "code",
   "execution_count": null,
   "id": "5172f4a4",
   "metadata": {
    "execution": {
     "iopub.execute_input": "2022-08-23T20:24:48.970188Z",
     "iopub.status.busy": "2022-08-23T20:24:48.969463Z",
     "iopub.status.idle": "2022-08-23T20:24:50.000770Z",
     "shell.execute_reply": "2022-08-23T20:24:49.999845Z"
    },
    "papermill": {
     "duration": 1.044049,
     "end_time": "2022-08-23T20:24:50.003395",
     "exception": false,
     "start_time": "2022-08-23T20:24:48.959346",
     "status": "completed"
    },
    "tags": []
   },
   "outputs": [],
   "source": [
    "import pandas as pd\n",
    "import numpy as np\n",
    "import matplotlib.pyplot as plt\n",
    "import seaborn as sns"
   ]
  },
  {
   "cell_type": "markdown",
   "id": "6d008f15",
   "metadata": {},
   "source": [
    "<a id=\"2\"></a>\n",
    "# <p style=\"padding:10px;background-color:black;margin:0;color:white;font-family:newtimeroman;font-size:100%;text-align:center;border-radius: 15px 50px;overflow:hidden;font-weight:500\">Loading Dataset</p>\n"
   ]
  },
  {
   "cell_type": "code",
   "execution_count": null,
   "id": "7e8b1b20",
   "metadata": {
    "execution": {
     "iopub.execute_input": "2022-08-23T20:24:50.019879Z",
     "iopub.status.busy": "2022-08-23T20:24:50.019492Z",
     "iopub.status.idle": "2022-08-23T20:24:50.089066Z",
     "shell.execute_reply": "2022-08-23T20:24:50.088206Z"
    },
    "papermill": {
     "duration": 0.080623,
     "end_time": "2022-08-23T20:24:50.091578",
     "exception": false,
     "start_time": "2022-08-23T20:24:50.010955",
     "status": "completed"
    },
    "tags": []
   },
   "outputs": [],
   "source": [
    "df = pd.read_csv(\"Supermart Grocery Sales - Retail Analytics Dataset.csv\",index_col=0)"
   ]
  },
  {
   "cell_type": "code",
   "execution_count": null,
   "id": "33a51ca9",
   "metadata": {
    "execution": {
     "iopub.execute_input": "2022-08-23T20:24:50.108310Z",
     "iopub.status.busy": "2022-08-23T20:24:50.107874Z",
     "iopub.status.idle": "2022-08-23T20:24:50.136451Z",
     "shell.execute_reply": "2022-08-23T20:24:50.135329Z"
    },
    "papermill": {
     "duration": 0.039479,
     "end_time": "2022-08-23T20:24:50.138922",
     "exception": false,
     "start_time": "2022-08-23T20:24:50.099443",
     "status": "completed"
    },
    "tags": []
   },
   "outputs": [],
   "source": [
    "df"
   ]
  },
  {
   "cell_type": "code",
   "execution_count": 4,
   "id": "fe078dfc",
   "metadata": {
    "execution": {
     "iopub.execute_input": "2022-08-23T20:24:50.156870Z",
     "iopub.status.busy": "2022-08-23T20:24:50.155790Z",
     "iopub.status.idle": "2022-08-23T20:24:50.166367Z",
     "shell.execute_reply": "2022-08-23T20:24:50.165071Z"
    },
    "papermill": {
     "duration": 0.021843,
     "end_time": "2022-08-23T20:24:50.168757",
     "exception": false,
     "start_time": "2022-08-23T20:24:50.146914",
     "status": "completed"
    },
    "tags": []
   },
   "outputs": [
    {
     "data": {
      "text/plain": [
       "array(['Tamil Nadu'], dtype=object)"
      ]
     },
     "execution_count": 4,
     "metadata": {},
     "output_type": "execute_result"
    }
   ],
   "source": [
    "df.State.unique()"
   ]
  },
  {
   "cell_type": "code",
   "execution_count": 5,
   "id": "54c0331d",
   "metadata": {
    "execution": {
     "iopub.execute_input": "2022-08-23T20:24:50.186313Z",
     "iopub.status.busy": "2022-08-23T20:24:50.185522Z",
     "iopub.status.idle": "2022-08-23T20:24:50.194421Z",
     "shell.execute_reply": "2022-08-23T20:24:50.193553Z"
    },
    "papermill": {
     "duration": 0.020493,
     "end_time": "2022-08-23T20:24:50.196980",
     "exception": false,
     "start_time": "2022-08-23T20:24:50.176487",
     "status": "completed"
    },
    "tags": []
   },
   "outputs": [],
   "source": [
    "df.drop(\"State\", axis=1, inplace=True)"
   ]
  },
  {
   "cell_type": "code",
   "execution_count": 6,
   "id": "3118f244",
   "metadata": {
    "execution": {
     "iopub.execute_input": "2022-08-23T20:24:50.214790Z",
     "iopub.status.busy": "2022-08-23T20:24:50.213969Z",
     "iopub.status.idle": "2022-08-23T20:24:50.233908Z",
     "shell.execute_reply": "2022-08-23T20:24:50.232372Z"
    },
    "papermill": {
     "duration": 0.032048,
     "end_time": "2022-08-23T20:24:50.236825",
     "exception": false,
     "start_time": "2022-08-23T20:24:50.204777",
     "status": "completed"
    },
    "tags": []
   },
   "outputs": [
    {
     "data": {
      "text/html": [
       "<div>\n",
       "<style scoped>\n",
       "    .dataframe tbody tr th:only-of-type {\n",
       "        vertical-align: middle;\n",
       "    }\n",
       "\n",
       "    .dataframe tbody tr th {\n",
       "        vertical-align: top;\n",
       "    }\n",
       "\n",
       "    .dataframe thead th {\n",
       "        text-align: right;\n",
       "    }\n",
       "</style>\n",
       "<table border=\"1\" class=\"dataframe\">\n",
       "  <thead>\n",
       "    <tr style=\"text-align: right;\">\n",
       "      <th></th>\n",
       "      <th>Customer Name</th>\n",
       "      <th>Category</th>\n",
       "      <th>Sub Category</th>\n",
       "      <th>City</th>\n",
       "      <th>Order Date</th>\n",
       "      <th>Region</th>\n",
       "      <th>Sales</th>\n",
       "      <th>Discount</th>\n",
       "      <th>Profit</th>\n",
       "    </tr>\n",
       "    <tr>\n",
       "      <th>Order ID</th>\n",
       "      <th></th>\n",
       "      <th></th>\n",
       "      <th></th>\n",
       "      <th></th>\n",
       "      <th></th>\n",
       "      <th></th>\n",
       "      <th></th>\n",
       "      <th></th>\n",
       "      <th></th>\n",
       "    </tr>\n",
       "  </thead>\n",
       "  <tbody>\n",
       "    <tr>\n",
       "      <th>OD1</th>\n",
       "      <td>Harish</td>\n",
       "      <td>Oil &amp; Masala</td>\n",
       "      <td>Masalas</td>\n",
       "      <td>Vellore</td>\n",
       "      <td>11-08-2017</td>\n",
       "      <td>North</td>\n",
       "      <td>1254</td>\n",
       "      <td>0.12</td>\n",
       "      <td>401.28</td>\n",
       "    </tr>\n",
       "    <tr>\n",
       "      <th>OD2</th>\n",
       "      <td>Sudha</td>\n",
       "      <td>Beverages</td>\n",
       "      <td>Health Drinks</td>\n",
       "      <td>Krishnagiri</td>\n",
       "      <td>11-08-2017</td>\n",
       "      <td>South</td>\n",
       "      <td>749</td>\n",
       "      <td>0.18</td>\n",
       "      <td>149.80</td>\n",
       "    </tr>\n",
       "    <tr>\n",
       "      <th>OD3</th>\n",
       "      <td>Hussain</td>\n",
       "      <td>Food Grains</td>\n",
       "      <td>Atta &amp; Flour</td>\n",
       "      <td>Perambalur</td>\n",
       "      <td>06-12-2017</td>\n",
       "      <td>West</td>\n",
       "      <td>2360</td>\n",
       "      <td>0.21</td>\n",
       "      <td>165.20</td>\n",
       "    </tr>\n",
       "    <tr>\n",
       "      <th>OD4</th>\n",
       "      <td>Jackson</td>\n",
       "      <td>Fruits &amp; Veggies</td>\n",
       "      <td>Fresh Vegetables</td>\n",
       "      <td>Dharmapuri</td>\n",
       "      <td>10-11-2016</td>\n",
       "      <td>South</td>\n",
       "      <td>896</td>\n",
       "      <td>0.25</td>\n",
       "      <td>89.60</td>\n",
       "    </tr>\n",
       "    <tr>\n",
       "      <th>OD5</th>\n",
       "      <td>Ridhesh</td>\n",
       "      <td>Food Grains</td>\n",
       "      <td>Organic Staples</td>\n",
       "      <td>Ooty</td>\n",
       "      <td>10-11-2016</td>\n",
       "      <td>South</td>\n",
       "      <td>2355</td>\n",
       "      <td>0.26</td>\n",
       "      <td>918.45</td>\n",
       "    </tr>\n",
       "    <tr>\n",
       "      <th>...</th>\n",
       "      <td>...</td>\n",
       "      <td>...</td>\n",
       "      <td>...</td>\n",
       "      <td>...</td>\n",
       "      <td>...</td>\n",
       "      <td>...</td>\n",
       "      <td>...</td>\n",
       "      <td>...</td>\n",
       "      <td>...</td>\n",
       "    </tr>\n",
       "    <tr>\n",
       "      <th>OD9990</th>\n",
       "      <td>Sudeep</td>\n",
       "      <td>Eggs, Meat &amp; Fish</td>\n",
       "      <td>Eggs</td>\n",
       "      <td>Madurai</td>\n",
       "      <td>12/24/2015</td>\n",
       "      <td>West</td>\n",
       "      <td>945</td>\n",
       "      <td>0.16</td>\n",
       "      <td>359.10</td>\n",
       "    </tr>\n",
       "    <tr>\n",
       "      <th>OD9991</th>\n",
       "      <td>Alan</td>\n",
       "      <td>Bakery</td>\n",
       "      <td>Biscuits</td>\n",
       "      <td>Kanyakumari</td>\n",
       "      <td>07-12-2015</td>\n",
       "      <td>West</td>\n",
       "      <td>1195</td>\n",
       "      <td>0.26</td>\n",
       "      <td>71.70</td>\n",
       "    </tr>\n",
       "    <tr>\n",
       "      <th>OD9992</th>\n",
       "      <td>Ravi</td>\n",
       "      <td>Food Grains</td>\n",
       "      <td>Rice</td>\n",
       "      <td>Bodi</td>\n",
       "      <td>06-06-2017</td>\n",
       "      <td>West</td>\n",
       "      <td>1567</td>\n",
       "      <td>0.16</td>\n",
       "      <td>501.44</td>\n",
       "    </tr>\n",
       "    <tr>\n",
       "      <th>OD9993</th>\n",
       "      <td>Peer</td>\n",
       "      <td>Oil &amp; Masala</td>\n",
       "      <td>Spices</td>\n",
       "      <td>Pudukottai</td>\n",
       "      <td>10/16/2018</td>\n",
       "      <td>West</td>\n",
       "      <td>1659</td>\n",
       "      <td>0.15</td>\n",
       "      <td>597.24</td>\n",
       "    </tr>\n",
       "    <tr>\n",
       "      <th>OD9994</th>\n",
       "      <td>Ganesh</td>\n",
       "      <td>Food Grains</td>\n",
       "      <td>Atta &amp; Flour</td>\n",
       "      <td>Tirunelveli</td>\n",
       "      <td>4/17/2018</td>\n",
       "      <td>West</td>\n",
       "      <td>1034</td>\n",
       "      <td>0.28</td>\n",
       "      <td>165.44</td>\n",
       "    </tr>\n",
       "  </tbody>\n",
       "</table>\n",
       "<p>9994 rows × 9 columns</p>\n",
       "</div>"
      ],
      "text/plain": [
       "         Customer Name           Category      Sub Category         City  \\\n",
       "Order ID                                                                   \n",
       "OD1             Harish       Oil & Masala           Masalas      Vellore   \n",
       "OD2              Sudha          Beverages     Health Drinks  Krishnagiri   \n",
       "OD3            Hussain        Food Grains      Atta & Flour   Perambalur   \n",
       "OD4            Jackson   Fruits & Veggies  Fresh Vegetables   Dharmapuri   \n",
       "OD5            Ridhesh        Food Grains   Organic Staples         Ooty   \n",
       "...                ...                ...               ...          ...   \n",
       "OD9990          Sudeep  Eggs, Meat & Fish              Eggs      Madurai   \n",
       "OD9991            Alan             Bakery          Biscuits  Kanyakumari   \n",
       "OD9992            Ravi        Food Grains              Rice         Bodi   \n",
       "OD9993            Peer       Oil & Masala            Spices   Pudukottai   \n",
       "OD9994          Ganesh        Food Grains      Atta & Flour  Tirunelveli   \n",
       "\n",
       "          Order Date Region  Sales  Discount  Profit  \n",
       "Order ID                                              \n",
       "OD1       11-08-2017  North   1254      0.12  401.28  \n",
       "OD2       11-08-2017  South    749      0.18  149.80  \n",
       "OD3       06-12-2017   West   2360      0.21  165.20  \n",
       "OD4       10-11-2016  South    896      0.25   89.60  \n",
       "OD5       10-11-2016  South   2355      0.26  918.45  \n",
       "...              ...    ...    ...       ...     ...  \n",
       "OD9990    12/24/2015   West    945      0.16  359.10  \n",
       "OD9991    07-12-2015   West   1195      0.26   71.70  \n",
       "OD9992    06-06-2017   West   1567      0.16  501.44  \n",
       "OD9993    10/16/2018   West   1659      0.15  597.24  \n",
       "OD9994     4/17/2018   West   1034      0.28  165.44  \n",
       "\n",
       "[9994 rows x 9 columns]"
      ]
     },
     "execution_count": 6,
     "metadata": {},
     "output_type": "execute_result"
    }
   ],
   "source": [
    "df"
   ]
  },
  {
   "cell_type": "code",
   "execution_count": 6,
   "id": "37d3ab1a",
   "metadata": {
    "execution": {
     "iopub.execute_input": "2022-08-23T20:24:50.255100Z",
     "iopub.status.busy": "2022-08-23T20:24:50.254672Z",
     "iopub.status.idle": "2022-08-23T20:24:50.263100Z",
     "shell.execute_reply": "2022-08-23T20:24:50.261953Z"
    },
    "papermill": {
     "duration": 0.020426,
     "end_time": "2022-08-23T20:24:50.265458",
     "exception": false,
     "start_time": "2022-08-23T20:24:50.245032",
     "status": "completed"
    },
    "tags": []
   },
   "outputs": [
    {
     "data": {
      "text/plain": [
       "24"
      ]
     },
     "execution_count": 6,
     "metadata": {},
     "output_type": "execute_result"
    }
   ],
   "source": [
    "df.City.nunique()"
   ]
  },
  {
   "cell_type": "code",
   "execution_count": 7,
   "id": "d511c635",
   "metadata": {
    "execution": {
     "iopub.execute_input": "2022-08-23T20:24:50.285074Z",
     "iopub.status.busy": "2022-08-23T20:24:50.284256Z",
     "iopub.status.idle": "2022-08-23T20:24:50.290784Z",
     "shell.execute_reply": "2022-08-23T20:24:50.289963Z"
    },
    "papermill": {
     "duration": 0.01838,
     "end_time": "2022-08-23T20:24:50.293017",
     "exception": false,
     "start_time": "2022-08-23T20:24:50.274637",
     "status": "completed"
    },
    "tags": []
   },
   "outputs": [],
   "source": [
    "df[\"profit_pct\"] = df[\"Profit\"] / df[\"Sales\"] * 100"
   ]
  },
  {
   "cell_type": "code",
   "execution_count": 9,
   "id": "07500c4f",
   "metadata": {
    "execution": {
     "iopub.execute_input": "2022-08-23T20:24:50.312831Z",
     "iopub.status.busy": "2022-08-23T20:24:50.312217Z",
     "iopub.status.idle": "2022-08-23T20:24:50.344793Z",
     "shell.execute_reply": "2022-08-23T20:24:50.343631Z"
    },
    "papermill": {
     "duration": 0.04616,
     "end_time": "2022-08-23T20:24:50.347346",
     "exception": false,
     "start_time": "2022-08-23T20:24:50.301186",
     "status": "completed"
    },
    "tags": []
   },
   "outputs": [
    {
     "data": {
      "text/html": [
       "<div>\n",
       "<style scoped>\n",
       "    .dataframe tbody tr th:only-of-type {\n",
       "        vertical-align: middle;\n",
       "    }\n",
       "\n",
       "    .dataframe tbody tr th {\n",
       "        vertical-align: top;\n",
       "    }\n",
       "\n",
       "    .dataframe thead th {\n",
       "        text-align: right;\n",
       "    }\n",
       "</style>\n",
       "<table border=\"1\" class=\"dataframe\">\n",
       "  <thead>\n",
       "    <tr style=\"text-align: right;\">\n",
       "      <th></th>\n",
       "      <th>Customer Name</th>\n",
       "      <th>Category</th>\n",
       "      <th>Sub Category</th>\n",
       "      <th>City</th>\n",
       "      <th>Order Date</th>\n",
       "      <th>Region</th>\n",
       "      <th>Sales</th>\n",
       "      <th>Discount</th>\n",
       "      <th>Profit</th>\n",
       "      <th>profit_pct</th>\n",
       "    </tr>\n",
       "    <tr>\n",
       "      <th>Order ID</th>\n",
       "      <th></th>\n",
       "      <th></th>\n",
       "      <th></th>\n",
       "      <th></th>\n",
       "      <th></th>\n",
       "      <th></th>\n",
       "      <th></th>\n",
       "      <th></th>\n",
       "      <th></th>\n",
       "      <th></th>\n",
       "    </tr>\n",
       "  </thead>\n",
       "  <tbody>\n",
       "    <tr>\n",
       "      <th>OD1</th>\n",
       "      <td>Harish</td>\n",
       "      <td>Oil &amp; Masala</td>\n",
       "      <td>Masalas</td>\n",
       "      <td>Vellore</td>\n",
       "      <td>11-08-2017</td>\n",
       "      <td>North</td>\n",
       "      <td>1254</td>\n",
       "      <td>0.12</td>\n",
       "      <td>401.28</td>\n",
       "      <td>32.0</td>\n",
       "    </tr>\n",
       "    <tr>\n",
       "      <th>OD2</th>\n",
       "      <td>Sudha</td>\n",
       "      <td>Beverages</td>\n",
       "      <td>Health Drinks</td>\n",
       "      <td>Krishnagiri</td>\n",
       "      <td>11-08-2017</td>\n",
       "      <td>South</td>\n",
       "      <td>749</td>\n",
       "      <td>0.18</td>\n",
       "      <td>149.80</td>\n",
       "      <td>20.0</td>\n",
       "    </tr>\n",
       "    <tr>\n",
       "      <th>OD3</th>\n",
       "      <td>Hussain</td>\n",
       "      <td>Food Grains</td>\n",
       "      <td>Atta &amp; Flour</td>\n",
       "      <td>Perambalur</td>\n",
       "      <td>06-12-2017</td>\n",
       "      <td>West</td>\n",
       "      <td>2360</td>\n",
       "      <td>0.21</td>\n",
       "      <td>165.20</td>\n",
       "      <td>7.0</td>\n",
       "    </tr>\n",
       "    <tr>\n",
       "      <th>OD4</th>\n",
       "      <td>Jackson</td>\n",
       "      <td>Fruits &amp; Veggies</td>\n",
       "      <td>Fresh Vegetables</td>\n",
       "      <td>Dharmapuri</td>\n",
       "      <td>10-11-2016</td>\n",
       "      <td>South</td>\n",
       "      <td>896</td>\n",
       "      <td>0.25</td>\n",
       "      <td>89.60</td>\n",
       "      <td>10.0</td>\n",
       "    </tr>\n",
       "    <tr>\n",
       "      <th>OD5</th>\n",
       "      <td>Ridhesh</td>\n",
       "      <td>Food Grains</td>\n",
       "      <td>Organic Staples</td>\n",
       "      <td>Ooty</td>\n",
       "      <td>10-11-2016</td>\n",
       "      <td>South</td>\n",
       "      <td>2355</td>\n",
       "      <td>0.26</td>\n",
       "      <td>918.45</td>\n",
       "      <td>39.0</td>\n",
       "    </tr>\n",
       "    <tr>\n",
       "      <th>...</th>\n",
       "      <td>...</td>\n",
       "      <td>...</td>\n",
       "      <td>...</td>\n",
       "      <td>...</td>\n",
       "      <td>...</td>\n",
       "      <td>...</td>\n",
       "      <td>...</td>\n",
       "      <td>...</td>\n",
       "      <td>...</td>\n",
       "      <td>...</td>\n",
       "    </tr>\n",
       "    <tr>\n",
       "      <th>OD9990</th>\n",
       "      <td>Sudeep</td>\n",
       "      <td>Eggs, Meat &amp; Fish</td>\n",
       "      <td>Eggs</td>\n",
       "      <td>Madurai</td>\n",
       "      <td>12/24/2015</td>\n",
       "      <td>West</td>\n",
       "      <td>945</td>\n",
       "      <td>0.16</td>\n",
       "      <td>359.10</td>\n",
       "      <td>38.0</td>\n",
       "    </tr>\n",
       "    <tr>\n",
       "      <th>OD9991</th>\n",
       "      <td>Alan</td>\n",
       "      <td>Bakery</td>\n",
       "      <td>Biscuits</td>\n",
       "      <td>Kanyakumari</td>\n",
       "      <td>07-12-2015</td>\n",
       "      <td>West</td>\n",
       "      <td>1195</td>\n",
       "      <td>0.26</td>\n",
       "      <td>71.70</td>\n",
       "      <td>6.0</td>\n",
       "    </tr>\n",
       "    <tr>\n",
       "      <th>OD9992</th>\n",
       "      <td>Ravi</td>\n",
       "      <td>Food Grains</td>\n",
       "      <td>Rice</td>\n",
       "      <td>Bodi</td>\n",
       "      <td>06-06-2017</td>\n",
       "      <td>West</td>\n",
       "      <td>1567</td>\n",
       "      <td>0.16</td>\n",
       "      <td>501.44</td>\n",
       "      <td>32.0</td>\n",
       "    </tr>\n",
       "    <tr>\n",
       "      <th>OD9993</th>\n",
       "      <td>Peer</td>\n",
       "      <td>Oil &amp; Masala</td>\n",
       "      <td>Spices</td>\n",
       "      <td>Pudukottai</td>\n",
       "      <td>10/16/2018</td>\n",
       "      <td>West</td>\n",
       "      <td>1659</td>\n",
       "      <td>0.15</td>\n",
       "      <td>597.24</td>\n",
       "      <td>36.0</td>\n",
       "    </tr>\n",
       "    <tr>\n",
       "      <th>OD9994</th>\n",
       "      <td>Ganesh</td>\n",
       "      <td>Food Grains</td>\n",
       "      <td>Atta &amp; Flour</td>\n",
       "      <td>Tirunelveli</td>\n",
       "      <td>4/17/2018</td>\n",
       "      <td>West</td>\n",
       "      <td>1034</td>\n",
       "      <td>0.28</td>\n",
       "      <td>165.44</td>\n",
       "      <td>16.0</td>\n",
       "    </tr>\n",
       "  </tbody>\n",
       "</table>\n",
       "<p>9994 rows × 10 columns</p>\n",
       "</div>"
      ],
      "text/plain": [
       "         Customer Name           Category      Sub Category         City  \\\n",
       "Order ID                                                                   \n",
       "OD1             Harish       Oil & Masala           Masalas      Vellore   \n",
       "OD2              Sudha          Beverages     Health Drinks  Krishnagiri   \n",
       "OD3            Hussain        Food Grains      Atta & Flour   Perambalur   \n",
       "OD4            Jackson   Fruits & Veggies  Fresh Vegetables   Dharmapuri   \n",
       "OD5            Ridhesh        Food Grains   Organic Staples         Ooty   \n",
       "...                ...                ...               ...          ...   \n",
       "OD9990          Sudeep  Eggs, Meat & Fish              Eggs      Madurai   \n",
       "OD9991            Alan             Bakery          Biscuits  Kanyakumari   \n",
       "OD9992            Ravi        Food Grains              Rice         Bodi   \n",
       "OD9993            Peer       Oil & Masala            Spices   Pudukottai   \n",
       "OD9994          Ganesh        Food Grains      Atta & Flour  Tirunelveli   \n",
       "\n",
       "          Order Date Region  Sales  Discount  Profit  profit_pct  \n",
       "Order ID                                                          \n",
       "OD1       11-08-2017  North   1254      0.12  401.28        32.0  \n",
       "OD2       11-08-2017  South    749      0.18  149.80        20.0  \n",
       "OD3       06-12-2017   West   2360      0.21  165.20         7.0  \n",
       "OD4       10-11-2016  South    896      0.25   89.60        10.0  \n",
       "OD5       10-11-2016  South   2355      0.26  918.45        39.0  \n",
       "...              ...    ...    ...       ...     ...         ...  \n",
       "OD9990    12/24/2015   West    945      0.16  359.10        38.0  \n",
       "OD9991    07-12-2015   West   1195      0.26   71.70         6.0  \n",
       "OD9992    06-06-2017   West   1567      0.16  501.44        32.0  \n",
       "OD9993    10/16/2018   West   1659      0.15  597.24        36.0  \n",
       "OD9994     4/17/2018   West   1034      0.28  165.44        16.0  \n",
       "\n",
       "[9994 rows x 10 columns]"
      ]
     },
     "execution_count": 9,
     "metadata": {},
     "output_type": "execute_result"
    }
   ],
   "source": [
    "df"
   ]
  },
  {
   "cell_type": "markdown",
   "id": "e61cea2e",
   "metadata": {},
   "source": [
    "<a id=\"4\"></a>\n",
    "# <p style=\"padding:10px;background-color:black;margin:0;color:white;font-family:newtimeroman;font-size:100%;text-align:center;border-radius: 15px 50px;overflow:hidden;font-weight:500\">Data Visualization</p>\n"
   ]
  },
  {
   "cell_type": "code",
   "execution_count": 8,
   "id": "e6d5f639",
   "metadata": {
    "execution": {
     "iopub.execute_input": "2022-08-23T20:24:50.367121Z",
     "iopub.status.busy": "2022-08-23T20:24:50.366724Z",
     "iopub.status.idle": "2022-08-23T20:24:50.590463Z",
     "shell.execute_reply": "2022-08-23T20:24:50.589171Z"
    },
    "papermill": {
     "duration": 0.236225,
     "end_time": "2022-08-23T20:24:50.593014",
     "exception": false,
     "start_time": "2022-08-23T20:24:50.356789",
     "status": "completed"
    },
    "tags": []
   },
   "outputs": [
    {
     "data": {
      "text/plain": [
       "Text(0.5, 1.0, 'Profit Percentage per Category')"
      ]
     },
     "execution_count": 8,
     "metadata": {},
     "output_type": "execute_result"
    },
    {
     "data": {
      "image/png": "[encoded data removed]",
      "text/plain": [
       "<Figure size 640x480 with 1 Axes>"
      ]
     },
     "metadata": {},
     "output_type": "display_data"
    }
   ],
   "source": [
    "df.groupby(\"Category\").mean()[\"profit_pct\"].plot(kind='barh')\n",
    "plt.title(\"Profit Percentage per Category\")"
   ]
  },
  {
   "cell_type": "code",
   "execution_count": 9,
   "id": "99af66e8",
   "metadata": {
    "execution": {
     "iopub.execute_input": "2022-08-23T20:24:50.613102Z",
     "iopub.status.busy": "2022-08-23T20:24:50.612697Z",
     "iopub.status.idle": "2022-08-23T20:24:50.806111Z",
     "shell.execute_reply": "2022-08-23T20:24:50.804398Z"
    },
    "papermill": {
     "duration": 0.207285,
     "end_time": "2022-08-23T20:24:50.809502",
     "exception": false,
     "start_time": "2022-08-23T20:24:50.602217",
     "status": "completed"
    },
    "tags": []
   },
   "outputs": [
    {
     "data": {
      "text/plain": [
       "Text(0.5, 1.0, 'Avg Sales/Profit based on Region')"
      ]
     },
     "execution_count": 9,
     "metadata": {},
     "output_type": "execute_result"
    },
    {
     "data": {
      "image/png": "[encoded data removed]",
      "text/plain": [
       "<Figure size 640x480 with 1 Axes>"
      ]
     },
     "metadata": {},
     "output_type": "display_data"
    }
   ],
   "source": [
    "df.groupby(\"Region\")[[\"Sales\", \"Profit\"]].mean().plot(kind=\"barh\")\n",
    "plt.title(\"Avg Sales/Profit based on Region\")"
   ]
  },
  {
   "cell_type": "code",
   "execution_count": 10,
   "id": "599b8491",
   "metadata": {
    "execution": {
     "iopub.execute_input": "2022-08-23T20:24:50.837211Z",
     "iopub.status.busy": "2022-08-23T20:24:50.836339Z",
     "iopub.status.idle": "2022-08-23T20:24:51.029934Z",
     "shell.execute_reply": "2022-08-23T20:24:51.028733Z"
    },
    "papermill": {
     "duration": 0.211795,
     "end_time": "2022-08-23T20:24:51.032264",
     "exception": false,
     "start_time": "2022-08-23T20:24:50.820469",
     "status": "completed"
    },
    "tags": []
   },
   "outputs": [
    {
     "data": {
      "text/plain": [
       "<AxesSubplot:ylabel='Region'>"
      ]
     },
     "execution_count": 10,
     "metadata": {},
     "output_type": "execute_result"
    },
    {
     "data": {
      "image/png": "[encoded data removed]",
      "text/plain": [
       "<Figure size 640x480 with 1 Axes>"
      ]
     },
     "metadata": {},
     "output_type": "display_data"
    }
   ],
   "source": [
    "df.groupby(\"Region\")[\"Sales\"].sum().plot(kind=\"barh\")"
   ]
  },
  {
   "cell_type": "code",
   "execution_count": 13,
   "id": "080de851",
   "metadata": {
    "execution": {
     "iopub.execute_input": "2022-08-23T20:24:51.053865Z",
     "iopub.status.busy": "2022-08-23T20:24:51.052887Z",
     "iopub.status.idle": "2022-08-23T20:24:51.318498Z",
     "shell.execute_reply": "2022-08-23T20:24:51.317445Z"
    },
    "papermill": {
     "duration": 0.279431,
     "end_time": "2022-08-23T20:24:51.321415",
     "exception": false,
     "start_time": "2022-08-23T20:24:51.041984",
     "status": "completed"
    },
    "tags": []
   },
   "outputs": [
    {
     "name": "stderr",
     "output_type": "stream",
     "text": [
      "/opt/conda/lib/python3.7/site-packages/seaborn/_decorators.py:43: FutureWarning: Pass the following variables as keyword args: x, y. From version 0.12, the only valid positional argument will be `data`, and passing other arguments without an explicit keyword will result in an error or misinterpretation.\n",
      "  FutureWarning\n"
     ]
    },
    {
     "data": {
      "text/plain": [
       "<AxesSubplot:xlabel='Region', ylabel='Sales'>"
      ]
     },
     "execution_count": 13,
     "metadata": {},
     "output_type": "execute_result"
    },
    {
     "data": {
      "image/png": "[encoded data removed]",
      "text/plain": [
       "<Figure size 432x288 with 1 Axes>"
      ]
     },
     "metadata": {
      "needs_background": "light"
     },
     "output_type": "display_data"
    }
   ],
   "source": [
    "sns.boxplot(df.Region, df.Sales)"
   ]
  },
  {
   "cell_type": "code",
   "execution_count": 14,
   "id": "deba410d",
   "metadata": {
    "execution": {
     "iopub.execute_input": "2022-08-23T20:24:51.345235Z",
     "iopub.status.busy": "2022-08-23T20:24:51.344439Z",
     "iopub.status.idle": "2022-08-23T20:24:51.589569Z",
     "shell.execute_reply": "2022-08-23T20:24:51.588331Z"
    },
    "papermill": {
     "duration": 0.259813,
     "end_time": "2022-08-23T20:24:51.592029",
     "exception": false,
     "start_time": "2022-08-23T20:24:51.332216",
     "status": "completed"
    },
    "tags": []
   },
   "outputs": [
    {
     "data": {
      "text/plain": [
       "Text(0.5, 1.0, 'Profit/ Sales over the time based on cities')"
      ]
     },
     "execution_count": 14,
     "metadata": {},
     "output_type": "execute_result"
    },
    {
     "data": {
      "image/png": "[encoded data removed]",
      "text/plain": [
       "<Figure size 432x288 with 1 Axes>"
      ]
     },
     "metadata": {
      "needs_background": "light"
     },
     "output_type": "display_data"
    }
   ],
   "source": [
    "df.groupby(\"City\")[[\"Sales\", \"Profit\"]].sum().sort_values(by=\"Profit\",ascending=False).head().plot(kind=\"bar\")  \n",
    "plt.title(\"Profit/ Sales over the time based on cities\")"
   ]
  },
  {
   "cell_type": "code",
   "execution_count": 15,
   "id": "467fcffd",
   "metadata": {
    "execution": {
     "iopub.execute_input": "2022-08-23T20:24:51.615058Z",
     "iopub.status.busy": "2022-08-23T20:24:51.614432Z",
     "iopub.status.idle": "2022-08-23T20:24:51.802729Z",
     "shell.execute_reply": "2022-08-23T20:24:51.801362Z"
    },
    "papermill": {
     "duration": 0.20259,
     "end_time": "2022-08-23T20:24:51.805173",
     "exception": false,
     "start_time": "2022-08-23T20:24:51.602583",
     "status": "completed"
    },
    "tags": []
   },
   "outputs": [
    {
     "data": {
      "text/plain": [
       "Text(0.5, 1.0, 'Avg Profit/Sales based on cities')"
      ]
     },
     "execution_count": 15,
     "metadata": {},
     "output_type": "execute_result"
    },
    {
     "data": {
      "image/png": "[encoded data removed]",
      "text/plain": [
       "<Figure size 432x288 with 1 Axes>"
      ]
     },
     "metadata": {
      "needs_background": "light"
     },
     "output_type": "display_data"
    }
   ],
   "source": [
    "df.groupby(\"City\")[[\"Sales\", \"Profit\"]].mean().sort_values(by=\"Profit\",ascending=True).head().plot(kind=\"bar\")\n",
    "plt.title(\"Avg Profit/Sales based on cities\")"
   ]
  },
  {
   "cell_type": "code",
   "execution_count": 16,
   "id": "998745e2",
   "metadata": {
    "execution": {
     "iopub.execute_input": "2022-08-23T20:24:51.828742Z",
     "iopub.status.busy": "2022-08-23T20:24:51.828352Z",
     "iopub.status.idle": "2022-08-23T20:24:51.883398Z",
     "shell.execute_reply": "2022-08-23T20:24:51.882489Z"
    },
    "papermill": {
     "duration": 0.070512,
     "end_time": "2022-08-23T20:24:51.886505",
     "exception": false,
     "start_time": "2022-08-23T20:24:51.815993",
     "status": "completed"
    },
    "tags": []
   },
   "outputs": [],
   "source": [
    "df[\"Order Date\"] = pd.to_datetime(df[\"Order Date\"])"
   ]
  },
  {
   "cell_type": "code",
   "execution_count": 17,
   "id": "1582bed8",
   "metadata": {
    "execution": {
     "iopub.execute_input": "2022-08-23T20:24:51.909972Z",
     "iopub.status.busy": "2022-08-23T20:24:51.909403Z",
     "iopub.status.idle": "2022-08-23T20:24:51.917597Z",
     "shell.execute_reply": "2022-08-23T20:24:51.916754Z"
    },
    "papermill": {
     "duration": 0.022525,
     "end_time": "2022-08-23T20:24:51.919967",
     "exception": false,
     "start_time": "2022-08-23T20:24:51.897442",
     "status": "completed"
    },
    "tags": []
   },
   "outputs": [],
   "source": [
    "df[\"Year\"] = df[\"Order Date\"].dt.year"
   ]
  },
  {
   "cell_type": "code",
   "execution_count": 18,
   "id": "b4dacc23",
   "metadata": {
    "execution": {
     "iopub.execute_input": "2022-08-23T20:24:51.944311Z",
     "iopub.status.busy": "2022-08-23T20:24:51.943518Z",
     "iopub.status.idle": "2022-08-23T20:24:52.093106Z",
     "shell.execute_reply": "2022-08-23T20:24:52.091770Z"
    },
    "papermill": {
     "duration": 0.164485,
     "end_time": "2022-08-23T20:24:52.095570",
     "exception": false,
     "start_time": "2022-08-23T20:24:51.931085",
     "status": "completed"
    },
    "tags": []
   },
   "outputs": [
    {
     "data": {
      "text/plain": [
       "Text(0.5, 1.0, 'Profit by Years')"
      ]
     },
     "execution_count": 18,
     "metadata": {},
     "output_type": "execute_result"
    },
    {
     "data": {
      "image/png": "[encoded data removed]",
      "text/plain": [
       "<Figure size 432x288 with 1 Axes>"
      ]
     },
     "metadata": {
      "needs_background": "light"
     },
     "output_type": "display_data"
    }
   ],
   "source": [
    "plt.plot(df.groupby(\"Year\")[\"Profit\"].mean())\n",
    "plt.xlabel(\"Year\")\n",
    "plt.ylabel(\"Profit\")\n",
    "plt.title(\"Profit by Years\")"
   ]
  },
  {
   "cell_type": "code",
   "execution_count": 19,
   "id": "2e705bb2",
   "metadata": {
    "execution": {
     "iopub.execute_input": "2022-08-23T20:24:52.121175Z",
     "iopub.status.busy": "2022-08-23T20:24:52.120486Z",
     "iopub.status.idle": "2022-08-23T20:24:52.310778Z",
     "shell.execute_reply": "2022-08-23T20:24:52.309107Z"
    },
    "papermill": {
     "duration": 0.208092,
     "end_time": "2022-08-23T20:24:52.315157",
     "exception": false,
     "start_time": "2022-08-23T20:24:52.107065",
     "status": "completed"
    },
    "tags": []
   },
   "outputs": [
    {
     "data": {
      "text/plain": [
       "<AxesSubplot:xlabel='Year'>"
      ]
     },
     "execution_count": 19,
     "metadata": {},
     "output_type": "execute_result"
    },
    {
     "data": {
      "image/png": "[encoded data removed]",
      "text/plain": [
       "<Figure size 432x288 with 1 Axes>"
      ]
     },
     "metadata": {
      "needs_background": "light"
     },
     "output_type": "display_data"
    }
   ],
   "source": [
    "df.groupby(\"Year\")[\"Sales\"].count().plot(kind=\"bar\")\n"
   ]
  },
  {
   "cell_type": "code",
   "execution_count": 20,
   "id": "ad41002f",
   "metadata": {
    "execution": {
     "iopub.execute_input": "2022-08-23T20:24:52.345231Z",
     "iopub.status.busy": "2022-08-23T20:24:52.344113Z",
     "iopub.status.idle": "2022-08-23T20:24:52.356676Z",
     "shell.execute_reply": "2022-08-23T20:24:52.355649Z"
    },
    "papermill": {
     "duration": 0.029781,
     "end_time": "2022-08-23T20:24:52.359295",
     "exception": false,
     "start_time": "2022-08-23T20:24:52.329514",
     "status": "completed"
    },
    "tags": []
   },
   "outputs": [
    {
     "data": {
      "text/plain": [
       "50"
      ]
     },
     "execution_count": 20,
     "metadata": {},
     "output_type": "execute_result"
    }
   ],
   "source": [
    "df[\"Customer Name\"].nunique()"
   ]
  },
  {
   "cell_type": "code",
   "execution_count": 21,
   "id": "b4a9cce4",
   "metadata": {
    "execution": {
     "iopub.execute_input": "2022-08-23T20:24:52.390624Z",
     "iopub.status.busy": "2022-08-23T20:24:52.390011Z",
     "iopub.status.idle": "2022-08-23T20:24:52.402162Z",
     "shell.execute_reply": "2022-08-23T20:24:52.401204Z"
    },
    "papermill": {
     "duration": 0.032469,
     "end_time": "2022-08-23T20:24:52.405656",
     "exception": false,
     "start_time": "2022-08-23T20:24:52.373187",
     "status": "completed"
    },
    "tags": []
   },
   "outputs": [
    {
     "data": {
      "text/plain": [
       "Customer Name\n",
       "Amrish      227\n",
       "Krithika    224\n",
       "Verma       218\n",
       "Arutra      218\n",
       "Vidya       215\n",
       "Shah        215\n",
       "Suresh      212\n",
       "Surya       209\n",
       "Harish      208\n",
       "Hussain     208\n",
       "Name: Year, dtype: int64"
      ]
     },
     "execution_count": 21,
     "metadata": {},
     "output_type": "execute_result"
    }
   ],
   "source": [
    "df.groupby(\"Customer Name\")[\"Year\"].count().sort_values(ascending=False).head(10)"
   ]
  },
  {
   "cell_type": "code",
   "execution_count": 22,
   "id": "6727f86b",
   "metadata": {
    "execution": {
     "iopub.execute_input": "2022-08-23T20:24:52.442377Z",
     "iopub.status.busy": "2022-08-23T20:24:52.441214Z",
     "iopub.status.idle": "2022-08-23T20:24:52.668707Z",
     "shell.execute_reply": "2022-08-23T20:24:52.667647Z"
    },
    "papermill": {
     "duration": 0.249663,
     "end_time": "2022-08-23T20:24:52.671408",
     "exception": false,
     "start_time": "2022-08-23T20:24:52.421745",
     "status": "completed"
    },
    "tags": []
   },
   "outputs": [
    {
     "data": {
      "text/plain": [
       "Text(0.5, 1.0, \"Top 3 Customer's contribution\")"
      ]
     },
     "execution_count": 22,
     "metadata": {},
     "output_type": "execute_result"
    },
    {
     "data": {
      "image/png": "[encoded data removed]",
      "text/plain": [
       "<Figure size 432x288 with 1 Axes>"
      ]
     },
     "metadata": {
      "needs_background": "light"
     },
     "output_type": "display_data"
    }
   ],
   "source": [
    "df.groupby(\"Customer Name\")[[\"Sales\", \"Profit\"]].sum().sort_values(by=\"Profit\",ascending=False).head(3).plot(kind=\"barh\").plot(kind=\"barh\")\n",
    "plt.title(\"Top 3 Customer's contribution\")"
   ]
  },
  {
   "cell_type": "code",
   "execution_count": 23,
   "id": "b5001a1a",
   "metadata": {
    "execution": {
     "iopub.execute_input": "2022-08-23T20:24:52.699892Z",
     "iopub.status.busy": "2022-08-23T20:24:52.699448Z",
     "iopub.status.idle": "2022-08-23T20:24:52.908578Z",
     "shell.execute_reply": "2022-08-23T20:24:52.907348Z"
    },
    "papermill": {
     "duration": 0.226135,
     "end_time": "2022-08-23T20:24:52.911084",
     "exception": false,
     "start_time": "2022-08-23T20:24:52.684949",
     "status": "completed"
    },
    "tags": []
   },
   "outputs": [
    {
     "data": {
      "text/plain": [
       "Text(0.5, 1.0, 'Cities with most sales over the time.')"
      ]
     },
     "execution_count": 23,
     "metadata": {},
     "output_type": "execute_result"
    },
    {
     "data": {
      "image/png": "[encoded data removed]",
      "text/plain": [
       "<Figure size 432x288 with 1 Axes>"
      ]
     },
     "metadata": {
      "needs_background": "light"
     },
     "output_type": "display_data"
    }
   ],
   "source": [
    "df.groupby(\"City\")[\"Sales\"].sum().sort_values(ascending=False).head(5).plot(kind=\"bar\")\n",
    "plt.title(\"Cities with most sales over the time.\")"
   ]
  },
  {
   "cell_type": "code",
   "execution_count": 24,
   "id": "51548ea8",
   "metadata": {
    "execution": {
     "iopub.execute_input": "2022-08-23T20:24:52.940514Z",
     "iopub.status.busy": "2022-08-23T20:24:52.940024Z",
     "iopub.status.idle": "2022-08-23T20:24:53.149516Z",
     "shell.execute_reply": "2022-08-23T20:24:53.148758Z"
    },
    "papermill": {
     "duration": 0.226702,
     "end_time": "2022-08-23T20:24:53.151850",
     "exception": false,
     "start_time": "2022-08-23T20:24:52.925148",
     "status": "completed"
    },
    "tags": []
   },
   "outputs": [
    {
     "data": {
      "text/plain": [
       "Text(0.5, 1.0, 'Cities with highest avg Sales')"
      ]
     },
     "execution_count": 24,
     "metadata": {},
     "output_type": "execute_result"
    },
    {
     "data": {
      "image/png": "[encoded data removed]",
      "text/plain": [
       "<Figure size 432x288 with 1 Axes>"
      ]
     },
     "metadata": {
      "needs_background": "light"
     },
     "output_type": "display_data"
    }
   ],
   "source": [
    "df.groupby(\"City\")[\"Sales\"].mean().sort_values(ascending=False).head(5).plot(kind=\"bar\")\n",
    "plt.title(\"Cities with highest avg Sales\")"
   ]
  },
  {
   "cell_type": "code",
   "execution_count": 25,
   "id": "4f0a04ec",
   "metadata": {
    "execution": {
     "iopub.execute_input": "2022-08-23T20:24:53.183910Z",
     "iopub.status.busy": "2022-08-23T20:24:53.182994Z",
     "iopub.status.idle": "2022-08-23T20:24:53.387855Z",
     "shell.execute_reply": "2022-08-23T20:24:53.386481Z"
    },
    "papermill": {
     "duration": 0.223437,
     "end_time": "2022-08-23T20:24:53.390584",
     "exception": false,
     "start_time": "2022-08-23T20:24:53.167147",
     "status": "completed"
    },
    "tags": []
   },
   "outputs": [
    {
     "data": {
      "text/plain": [
       "Text(0.5, 1.0, 'Cities with lowest avg Profit')"
      ]
     },
     "execution_count": 25,
     "metadata": {},
     "output_type": "execute_result"
    },
    {
     "data": {
      "image/png": "[encoded data removed]",
      "text/plain": [
       "<Figure size 432x288 with 1 Axes>"
      ]
     },
     "metadata": {
      "needs_background": "light"
     },
     "output_type": "display_data"
    }
   ],
   "source": [
    "df.groupby(\"City\")[\"Profit\"].mean().sort_values(ascending=True).head(5).plot(kind=\"bar\")\n",
    "plt.title(\"Cities with lowest avg Profit\")"
   ]
  },
  {
   "cell_type": "code",
   "execution_count": 26,
   "id": "167d5a28",
   "metadata": {
    "execution": {
     "iopub.execute_input": "2022-08-23T20:24:53.420980Z",
     "iopub.status.busy": "2022-08-23T20:24:53.420604Z",
     "iopub.status.idle": "2022-08-23T20:24:53.586873Z",
     "shell.execute_reply": "2022-08-23T20:24:53.586041Z"
    },
    "papermill": {
     "duration": 0.184456,
     "end_time": "2022-08-23T20:24:53.589292",
     "exception": false,
     "start_time": "2022-08-23T20:24:53.404836",
     "status": "completed"
    },
    "tags": []
   },
   "outputs": [
    {
     "data": {
      "text/plain": [
       "Text(0.5, 1.0, 'Profit by Category')"
      ]
     },
     "execution_count": 26,
     "metadata": {},
     "output_type": "execute_result"
    },
    {
     "data": {
      "image/png": "[encoded data removed]",
      "text/plain": [
       "<Figure size 432x288 with 1 Axes>"
      ]
     },
     "metadata": {
      "needs_background": "light"
     },
     "output_type": "display_data"
    }
   ],
   "source": [
    "df.groupby(\"Category\")[\"Profit\"].sum().sort_values(ascending=False).plot(kind=\"barh\")\n",
    "plt.title(\"Profit by Category\")"
   ]
  },
  {
   "cell_type": "code",
   "execution_count": 27,
   "id": "fb555652",
   "metadata": {
    "execution": {
     "iopub.execute_input": "2022-08-23T20:24:53.619537Z",
     "iopub.status.busy": "2022-08-23T20:24:53.618997Z",
     "iopub.status.idle": "2022-08-23T20:24:53.790068Z",
     "shell.execute_reply": "2022-08-23T20:24:53.788743Z"
    },
    "papermill": {
     "duration": 0.188891,
     "end_time": "2022-08-23T20:24:53.793084",
     "exception": false,
     "start_time": "2022-08-23T20:24:53.604193",
     "status": "completed"
    },
    "scrolled": true,
    "tags": []
   },
   "outputs": [
    {
     "data": {
      "text/plain": [
       "Text(0.5, 1.0, 'Discounts on categories')"
      ]
     },
     "execution_count": 27,
     "metadata": {},
     "output_type": "execute_result"
    },
    {
     "data": {
      "image/png": "[encoded data removed]",
      "text/plain": [
       "<Figure size 432x288 with 1 Axes>"
      ]
     },
     "metadata": {
      "needs_background": "light"
     },
     "output_type": "display_data"
    }
   ],
   "source": [
    "df.groupby(\"Category\")[\"Discount\"].mean().sort_values(ascending=False).plot(kind=\"barh\")\n",
    "plt.tight_layout()\n",
    "plt.title(\"Discounts on categories\")"
   ]
  },
  {
   "cell_type": "code",
   "execution_count": 28,
   "id": "2d91bdff",
   "metadata": {
    "execution": {
     "iopub.execute_input": "2022-08-23T20:24:53.827100Z",
     "iopub.status.busy": "2022-08-23T20:24:53.826644Z",
     "iopub.status.idle": "2022-08-23T20:24:53.839346Z",
     "shell.execute_reply": "2022-08-23T20:24:53.838147Z"
    },
    "papermill": {
     "duration": 0.032097,
     "end_time": "2022-08-23T20:24:53.841646",
     "exception": false,
     "start_time": "2022-08-23T20:24:53.809549",
     "status": "completed"
    },
    "tags": []
   },
   "outputs": [
    {
     "data": {
      "text/plain": [
       "Category\n",
       "Oil & Masala         365.830485\n",
       "Bakery               374.041798\n",
       "Fruits & Veggies     374.048223\n",
       "Snacks               375.283256\n",
       "Beverages            375.432686\n",
       "Food Grains          378.514049\n",
       "Eggs, Meat & Fish    380.776658\n",
       "Name: Profit, dtype: float64"
      ]
     },
     "execution_count": 28,
     "metadata": {},
     "output_type": "execute_result"
    }
   ],
   "source": [
    "df.groupby(\"Category\")[\"Profit\"].mean().sort_values(ascending=True)"
   ]
  },
  {
   "cell_type": "markdown",
   "id": "68e1679b",
   "metadata": {
    "papermill": {
     "duration": 0.014432,
     "end_time": "2022-08-23T20:24:53.870535",
     "exception": false,
     "start_time": "2022-08-23T20:24:53.856103",
     "status": "completed"
    },
    "tags": []
   },
   "source": [
    "<a id=\"4\"></a>\n",
    "# <p style=\"padding:10px;background-color:black;margin:0;color:white;font-family:newtimeroman;font-size:100%;text-align:center;border-radius: 15px 50px;overflow:hidden;font-weight:500\">Insights</p>\n"
   ]
  },
  {
   "cell_type": "markdown",
   "id": "23633f68",
   "metadata": {
    "papermill": {
     "duration": 0.014615,
     "end_time": "2022-08-23T20:24:53.899996",
     "exception": false,
     "start_time": "2022-08-23T20:24:53.885381",
     "status": "completed"
    },
    "tags": []
   },
   "source": [
    "### 1. Profit percentage per category is approximately the same.\n",
    "### 2. Highest avg profit is from the North region though the difference is minor.\n",
    "### 3. Highest profit generating city is Vellore & city with highest sales over time is Kanyakumari.\n",
    "### 4. Kritika, Vidya and Arutra are the most loyal customers of the store contributing the most profit.\n",
    "### 5. Sales increased by 66% from 2015 to 2018.\n",
    "### 6. The highest profit was recorded in 2016 & lowest in 2017.\n",
    "### 7. Namakkal is the least profit generating city.\n",
    "### 8. Snacks category has generated the most profit.\n",
    "### 9. Oil and Masala category has generated the least profit."
   ]
  },
  {
   "cell_type": "code",
   "execution_count": null,
   "id": "4942b8b7",
   "metadata": {
    "papermill": {
     "duration": 0.014774,
     "end_time": "2022-08-23T20:24:53.929654",
     "exception": false,
     "start_time": "2022-08-23T20:24:53.914880",
     "status": "completed"
    },
    "tags": []
   },
   "outputs": [],
   "source": []
  }
 ],
 "metadata": {
  "kernelspec": {
   "display_name": "Python 3 (ipykernel)",
   "language": "python",
   "name": "python3"
  },
  "language_info": {
   "codemirror_mode": {
    "name": "ipython",
    "version": 3
   },
   "file_extension": ".py",
   "mimetype": "text/x-python",
   "name": "python",
   "nbconvert_exporter": "python",
   "pygments_lexer": "ipython3",
   "version": "3.9.13"
  },
  "papermill": {
   "default_parameters": {},
   "duration": 14.549016,
   "end_time": "2022-08-23T20:24:54.768309",
   "environment_variables": {},
   "exception": null,
   "input_path": "__notebook__.ipynb",
   "output_path": "__notebook__.ipynb",
   "parameters": {},
   "start_time": "2022-08-23T20:24:40.219293",
   "version": "2.3.4"
  }
 },
 "nbformat": 4,
 "nbformat_minor": 5
}
